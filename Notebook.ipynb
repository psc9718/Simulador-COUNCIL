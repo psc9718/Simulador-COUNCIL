{
 "cells": [
  {
   "cell_type": "markdown",
   "metadata": {
    "collapsed": true
   },
   "source": [
    "<div style=\"text-align:center\"><span style=\"color:#170D5D; font-family:Georgia; font-size:3.1em; LINE-HEIGHT:80px\"> Simulador Council </span></div>\n",
    " \n",
    "><b> <p style = \"font-family: Palatino; font-size:1.7em; color: #170D5D;\" > Modelo Matemático </p> <b/>\n",
    "><br />\n",
    ">    \n",
    "><b> <p style = \"font-family: Palatino; font-size:1.7em; color: #170D5D;\" > Araceli Soledad Castillo Fuhr  </p> <b/>\n",
    "><br />\n",
    ">    \n",
    "><b> <p style = \"font-family: Palatino; font-size:1.7em; color: #170D5D;\" > Paulina Salcedo Celis </p> <b/>\n",
    "><br />\n",
    ">  "
   ]
  },
  {
   "cell_type": "markdown",
   "metadata": {},
   "source": [
    "## <font color= #170D5D> <font size = 5> Descripción </font>\n",
    "    \n",
    "    \n",
    "<div style=\"text-align: justify\">\n",
    "    <font color= #0d2d5d> Creación para la asignación de ventas por productos y empresas participantes del simulador empresarial. Se encuentra dividido en tres áreas diferentes. </font>\n",
    "</div>"
   ]
  },
  {
   "cell_type": "markdown",
   "metadata": {},
   "source": [
    "<font color= #170D5D> <font size = 5> Investigación y Desarrollo </font> <font color= #0d2d5d>\n",
    "\n",
    "Sección que contiene la información de productos de cada empresa, así como también las ideales del segmento."
   ]
  },
  {
   "cell_type": "code",
   "execution_count": 1,
   "metadata": {},
   "outputs": [],
   "source": [
    "import Investigacion_Desarrollo as ide"
   ]
  },
  {
   "cell_type": "markdown",
   "metadata": {},
   "source": [
    "Las características ideales del segmento son las siguientes:"
   ]
  },
  {
   "cell_type": "code",
   "execution_count": 2,
   "metadata": {},
   "outputs": [
    {
     "data": {
      "text/html": [
       "<div>\n",
       "<style scoped>\n",
       "    .dataframe tbody tr th:only-of-type {\n",
       "        vertical-align: middle;\n",
       "    }\n",
       "\n",
       "    .dataframe tbody tr th {\n",
       "        vertical-align: top;\n",
       "    }\n",
       "\n",
       "    .dataframe thead th {\n",
       "        text-align: right;\n",
       "    }\n",
       "</style>\n",
       "<table border=\"1\" class=\"dataframe\">\n",
       "  <thead>\n",
       "    <tr style=\"text-align: right;\">\n",
       "      <th></th>\n",
       "      <th>Pantalla</th>\n",
       "      <th>Camara</th>\n",
       "      <th>Bateria</th>\n",
       "      <th>Procesador</th>\n",
       "      <th>Precio</th>\n",
       "    </tr>\n",
       "  </thead>\n",
       "  <tbody>\n",
       "    <tr>\n",
       "      <th>0</th>\n",
       "      <td>6.0</td>\n",
       "      <td>10</td>\n",
       "      <td>35</td>\n",
       "      <td>6.0</td>\n",
       "      <td>79</td>\n",
       "    </tr>\n",
       "  </tbody>\n",
       "</table>\n",
       "</div>"
      ],
      "text/plain": [
       "   Pantalla  Camara  Bateria  Procesador  Precio\n",
       "0       6.0      10       35         6.0      79"
      ]
     },
     "execution_count": 2,
     "metadata": {},
     "output_type": "execute_result"
    }
   ],
   "source": [
    "ide.df_caracteristicas"
   ]
  },
  {
   "cell_type": "markdown",
   "metadata": {},
   "source": [
    "Los pesos de cada una de esas características son:"
   ]
  },
  {
   "cell_type": "code",
   "execution_count": 3,
   "metadata": {},
   "outputs": [
    {
     "data": {
      "text/html": [
       "<div>\n",
       "<style scoped>\n",
       "    .dataframe tbody tr th:only-of-type {\n",
       "        vertical-align: middle;\n",
       "    }\n",
       "\n",
       "    .dataframe tbody tr th {\n",
       "        vertical-align: top;\n",
       "    }\n",
       "\n",
       "    .dataframe thead th {\n",
       "        text-align: right;\n",
       "    }\n",
       "</style>\n",
       "<table border=\"1\" class=\"dataframe\">\n",
       "  <thead>\n",
       "    <tr style=\"text-align: right;\">\n",
       "      <th></th>\n",
       "      <th>Pantalla</th>\n",
       "      <th>Camara</th>\n",
       "      <th>Bateria</th>\n",
       "      <th>Procesador</th>\n",
       "      <th>Precio</th>\n",
       "    </tr>\n",
       "  </thead>\n",
       "  <tbody>\n",
       "    <tr>\n",
       "      <th>0</th>\n",
       "      <td>0.25</td>\n",
       "      <td>0.15</td>\n",
       "      <td>0.05</td>\n",
       "      <td>0.05</td>\n",
       "      <td>0.5</td>\n",
       "    </tr>\n",
       "  </tbody>\n",
       "</table>\n",
       "</div>"
      ],
      "text/plain": [
       "   Pantalla  Camara  Bateria  Procesador  Precio\n",
       "0      0.25    0.15     0.05        0.05     0.5"
      ]
     },
     "execution_count": 3,
     "metadata": {},
     "output_type": "execute_result"
    }
   ],
   "source": [
    "ide.df_carac_pesos"
   ]
  },
  {
   "cell_type": "markdown",
   "metadata": {},
   "source": [
    "Se generaron datos aleatorios contemplando 6 empresas y 8 productos por cada una de ellas como simulación de las decisiones de los usuarios. \n",
    "Los datos están guardados en una lista que contiene las seis empresas, que a su vez son una lista que contiene los 8 productos."
   ]
  },
  {
   "cell_type": "code",
   "execution_count": 4,
   "metadata": {},
   "outputs": [
    {
     "data": {
      "text/plain": [
       "[[1.5449999999999942, 1.5, 1.55, 0.28999999999999987, 36.099999999999994],\n",
       " [1.4499999999999962, 1.05, 1.6, 0.2749999999999999, 36.099999999999994],\n",
       " [1.3699999999999979, 1.7999999999999998, 1.55, 0.3049999999999998, 35.55],\n",
       " [1.4374999999999964,\n",
       "  1.3499999999999999,\n",
       "  1.8,\n",
       "  0.28499999999999986,\n",
       "  36.099999999999994],\n",
       " [1.6749999999999914, 1.05, 1.5, 0.32499999999999973, 37.19999999999999],\n",
       " [1.6174999999999926,\n",
       "  1.05,\n",
       "  1.9500000000000002,\n",
       "  0.32999999999999974,\n",
       "  37.19999999999999],\n",
       " [1.6849999999999912,\n",
       "  1.7999999999999998,\n",
       "  1.9000000000000001,\n",
       "  0.2949999999999999,\n",
       "  37.749999999999986],\n",
       " [1.2824999999999998,\n",
       "  1.7999999999999998,\n",
       "  1.8,\n",
       "  0.2949999999999999,\n",
       "  43.799999999999955]]"
      ]
     },
     "execution_count": 4,
     "metadata": {},
     "output_type": "execute_result"
    }
   ],
   "source": [
    "# Ejemplo de los 8 productos de la empresa 0.\n",
    "ide.caracteristicas_productos_porempresa_sp[0]"
   ]
  },
  {
   "cell_type": "markdown",
   "metadata": {},
   "source": [
    "Lo siguiente que se propone es hacer la comparación con distancia euclidiana de cada producto con los valores ideales."
   ]
  },
  {
   "cell_type": "code",
   "execution_count": 5,
   "metadata": {},
   "outputs": [
    {
     "data": {
      "text/plain": [
       "[0.033167353351283846,\n",
       " 0.03227753184536472,\n",
       " 0.01890073398009323,\n",
       " 0.033230694009039496,\n",
       " 0.0940879863077218,\n",
       " 0.09486971185670735,\n",
       " 0.16672025850238864,\n",
       " 0.013350134454201638]"
      ]
     },
     "execution_count": 5,
     "metadata": {},
     "output_type": "execute_result"
    }
   ],
   "source": [
    "# Resultados de indices de similitud\n",
    "ide.similitud_productos[0]"
   ]
  },
  {
   "cell_type": "markdown",
   "metadata": {},
   "source": [
    "<font color= #170D5D> <font size = 5> Promoción </font> <font color= #0d2d5d>\n",
    "\n",
    "Sección que contiene la información de la promoción que elige cada empresa para cada uno de sus ocho productos, así como también las ideales del segmento."
   ]
  },
  {
   "cell_type": "code",
   "execution_count": 6,
   "metadata": {},
   "outputs": [],
   "source": [
    "import Promocion as pr"
   ]
  },
  {
   "cell_type": "markdown",
   "metadata": {},
   "source": [
    "Los pesos ideales del segmento son los siguientes:"
   ]
  },
  {
   "cell_type": "code",
   "execution_count": 7,
   "metadata": {},
   "outputs": [
    {
     "data": {
      "text/html": [
       "<div>\n",
       "<style scoped>\n",
       "    .dataframe tbody tr th:only-of-type {\n",
       "        vertical-align: middle;\n",
       "    }\n",
       "\n",
       "    .dataframe tbody tr th {\n",
       "        vertical-align: top;\n",
       "    }\n",
       "\n",
       "    .dataframe thead th {\n",
       "        text-align: right;\n",
       "    }\n",
       "</style>\n",
       "<table border=\"1\" class=\"dataframe\">\n",
       "  <thead>\n",
       "    <tr style=\"text-align: right;\">\n",
       "      <th></th>\n",
       "      <th>Redes Sociales</th>\n",
       "      <th>Television</th>\n",
       "      <th>Bateria</th>\n",
       "      <th>Procesador</th>\n",
       "      <th>Precio</th>\n",
       "    </tr>\n",
       "  </thead>\n",
       "  <tbody>\n",
       "    <tr>\n",
       "      <th>0</th>\n",
       "      <td>0.5</td>\n",
       "      <td>0.25</td>\n",
       "      <td>0.15</td>\n",
       "      <td>0.05</td>\n",
       "      <td>0.05</td>\n",
       "    </tr>\n",
       "  </tbody>\n",
       "</table>\n",
       "</div>"
      ],
      "text/plain": [
       "   Redes Sociales  Television  Bateria  Procesador  Precio\n",
       "0             0.5        0.25     0.15        0.05    0.05"
      ]
     },
     "execution_count": 7,
     "metadata": {},
     "output_type": "execute_result"
    }
   ],
   "source": [
    "pr.df_promocion"
   ]
  },
  {
   "cell_type": "markdown",
   "metadata": {},
   "source": [
    "El usuario primero elije la cantidad de dinero a utilizar, entre 0 a 10,000,000. Se generaron números aleatorios para tener estas decisiones."
   ]
  },
  {
   "cell_type": "code",
   "execution_count": 8,
   "metadata": {},
   "outputs": [
    {
     "name": "stdout",
     "output_type": "stream",
     "text": [
      "La decisión ideal es:  6500000\n"
     ]
    }
   ],
   "source": [
    "print('La decisión ideal es: ', pr.inversion_ideal)"
   ]
  },
  {
   "cell_type": "code",
   "execution_count": 9,
   "metadata": {},
   "outputs": [
    {
     "data": {
      "text/plain": [
       "[array([2300000]),\n",
       " array([8300000]),\n",
       " array([7800000]),\n",
       " array([4600000]),\n",
       " array([0]),\n",
       " array([4200000]),\n",
       " array([9000000]),\n",
       " array([2900000])]"
      ]
     },
     "execution_count": 9,
     "metadata": {},
     "output_type": "execute_result"
    }
   ],
   "source": [
    "# Decision de la primer empresa para cada una de los 8 productos.\n",
    "pr.inversion_por_promocion[0]"
   ]
  },
  {
   "cell_type": "markdown",
   "metadata": {},
   "source": [
    "Se generaron datos aleatorios contemplando 6 empresas y 8 productos por cada una de ellas como simulación de las decisiones de los usuarios. \n",
    "Los datos están guardados en una lista que contiene las seis empresas, que a su vez son una lista que contiene los 8 productos y los pesos de promoción decididos."
   ]
  },
  {
   "cell_type": "code",
   "execution_count": 10,
   "metadata": {},
   "outputs": [
    {
     "data": {
      "text/plain": [
       "[0.46398895735417683,\n",
       " 0.04059857928778276,\n",
       " 0.0008215564095040125,\n",
       " 0.47849284569216055,\n",
       " 0.016098061256375775]"
      ]
     },
     "execution_count": 10,
     "metadata": {},
     "output_type": "execute_result"
    }
   ],
   "source": [
    "# Ejemplo de decision de pesos de la empresa 0 producto numero 0 de esa empresa.\n",
    "pr.pesos_promocion_porempresa[0][0]"
   ]
  },
  {
   "cell_type": "markdown",
   "metadata": {},
   "source": [
    "Se propone hacer la comparación de la cantidad de inversión elegida."
   ]
  },
  {
   "cell_type": "markdown",
   "metadata": {},
   "source": [
    "Lo siguiente que se propone es hacer la comparación con distancia euclidiana de cada decisión de inversión para cada producto con los valores ideales."
   ]
  },
  {
   "cell_type": "code",
   "execution_count": 11,
   "metadata": {},
   "outputs": [
    {
     "data": {
      "text/plain": [
       "[0.6052275399474885,\n",
       " 0.6484437459821807,\n",
       " 0.643077226097878,\n",
       " 0.4601604657198162,\n",
       " 0.4654338916267605,\n",
       " 0.5520725253286328,\n",
       " 0.5124460208130887,\n",
       " 0.6807256266555367]"
      ]
     },
     "execution_count": 11,
     "metadata": {},
     "output_type": "execute_result"
    }
   ],
   "source": [
    "pr.similitud_promocion[0]"
   ]
  },
  {
   "cell_type": "markdown",
   "metadata": {},
   "source": [
    "<font color= #170D5D> <font size = 5> Plaza </font> <font color= #0d2d5d>\n",
    "\n",
    "Sección que contiene la información de los pesos para la plaza que elige cada empresa para cada uno de sus ocho productos, así como también las ideales del segmento."
   ]
  },
  {
   "cell_type": "code",
   "execution_count": 12,
   "metadata": {},
   "outputs": [],
   "source": [
    "import Plaza as pl"
   ]
  },
  {
   "cell_type": "markdown",
   "metadata": {},
   "source": [
    "Los pesos ideales del segmento son los siguientes:"
   ]
  },
  {
   "cell_type": "code",
   "execution_count": 13,
   "metadata": {},
   "outputs": [
    {
     "data": {
      "text/html": [
       "<div>\n",
       "<style scoped>\n",
       "    .dataframe tbody tr th:only-of-type {\n",
       "        vertical-align: middle;\n",
       "    }\n",
       "\n",
       "    .dataframe tbody tr th {\n",
       "        vertical-align: top;\n",
       "    }\n",
       "\n",
       "    .dataframe thead th {\n",
       "        text-align: right;\n",
       "    }\n",
       "</style>\n",
       "<table border=\"1\" class=\"dataframe\">\n",
       "  <thead>\n",
       "    <tr style=\"text-align: right;\">\n",
       "      <th></th>\n",
       "      <th>Retail</th>\n",
       "      <th>Plaza</th>\n",
       "      <th>E-commerce</th>\n",
       "    </tr>\n",
       "  </thead>\n",
       "  <tbody>\n",
       "    <tr>\n",
       "      <th>0</th>\n",
       "      <td>0.5</td>\n",
       "      <td>0.4</td>\n",
       "      <td>0.1</td>\n",
       "    </tr>\n",
       "  </tbody>\n",
       "</table>\n",
       "</div>"
      ],
      "text/plain": [
       "   Retail  Plaza  E-commerce\n",
       "0     0.5    0.4         0.1"
      ]
     },
     "execution_count": 13,
     "metadata": {},
     "output_type": "execute_result"
    }
   ],
   "source": [
    "pl.df_Plaza"
   ]
  },
  {
   "cell_type": "markdown",
   "metadata": {},
   "source": [
    "El usuario primero elije la cantidad de dinero a utilizar, entre 0 a 10,000,000. Se generaron números aleatorios para tener estas decisiones."
   ]
  },
  {
   "cell_type": "code",
   "execution_count": 14,
   "metadata": {},
   "outputs": [
    {
     "name": "stdout",
     "output_type": "stream",
     "text": [
      "La decisión ideal es:  6500000\n"
     ]
    }
   ],
   "source": [
    "print('La decisión ideal es: ', pr.inversion_ideal)"
   ]
  },
  {
   "cell_type": "code",
   "execution_count": 15,
   "metadata": {},
   "outputs": [
    {
     "data": {
      "text/plain": [
       "[array([3600000]),\n",
       " array([500000]),\n",
       " array([3500000]),\n",
       " array([8800000]),\n",
       " array([7400000]),\n",
       " array([7200000]),\n",
       " array([7000000]),\n",
       " array([2300000])]"
      ]
     },
     "execution_count": 15,
     "metadata": {},
     "output_type": "execute_result"
    }
   ],
   "source": [
    "# Decision de la primer empresa para cada una de los 8 productos.\n",
    "pl.inversion_por_plaza[0]"
   ]
  },
  {
   "cell_type": "markdown",
   "metadata": {},
   "source": [
    "Se generaron datos aleatorios contemplando 6 empresas y 8 productos por cada una de ellas como simulación de las decisiones de los usuarios. \n",
    "Los datos están guardados en una lista que contiene las seis empresas, que a su vez son una lista que contiene los 8 productos y los pesos de plaza decididos."
   ]
  },
  {
   "cell_type": "code",
   "execution_count": 16,
   "metadata": {},
   "outputs": [
    {
     "data": {
      "text/plain": [
       "[0.4600186668389885, 0.11096900054574185, 0.42901233261526955]"
      ]
     },
     "execution_count": 16,
     "metadata": {},
     "output_type": "execute_result"
    }
   ],
   "source": [
    "# Ejemplo de decision de pesos de la empresa 0 producto numero 0 de esa empresa.\n",
    "pl.pesos_plaza_porempresa[0][0]"
   ]
  },
  {
   "cell_type": "markdown",
   "metadata": {},
   "source": [
    "Se propone hacer la comparación de la cantidad de inversión elegida."
   ]
  },
  {
   "cell_type": "markdown",
   "metadata": {},
   "source": [
    "Lo siguiente que se propone es hacer la comparación con distancia euclidiana de cada decisión de inversión para cada producto con los valores ideales."
   ]
  },
  {
   "cell_type": "code",
   "execution_count": 17,
   "metadata": {},
   "outputs": [
    {
     "data": {
      "text/plain": [
       "[0.6441927053887607,\n",
       " 0.6479267428472041,\n",
       " 0.8471383329061495,\n",
       " 0.8142689115902039,\n",
       " 0.5590006586165942,\n",
       " 0.5762423806340031,\n",
       " 0.5224308768807789,\n",
       " 0.6016957851957454]"
      ]
     },
     "execution_count": 17,
     "metadata": {},
     "output_type": "execute_result"
    }
   ],
   "source": [
    "pl.similitud_plaza[0]"
   ]
  },
  {
   "cell_type": "markdown",
   "metadata": {},
   "source": [
    "<font color= #170D5D> <font size = 5> Distribución </font> <font color= #0d2d5d>\n",
    "\n",
    "Sección que contiene la información procentaje de unidades totales que elige cada empresa para cada uno de sus ocho productos a distribuir en plaza, así como también las ideales del segmento."
   ]
  },
  {
   "cell_type": "code",
   "execution_count": 18,
   "metadata": {},
   "outputs": [],
   "source": [
    "import Distribucion as dr"
   ]
  },
  {
   "cell_type": "markdown",
   "metadata": {},
   "source": [
    "Los pesos ideales del segmento son los siguientes:"
   ]
  },
  {
   "cell_type": "code",
   "execution_count": 19,
   "metadata": {},
   "outputs": [
    {
     "data": {
      "text/plain": [
       "Retail        0.5\n",
       "Plaza         0.4\n",
       "E-commerce    0.1\n",
       "Name: 0, dtype: float64"
      ]
     },
     "execution_count": 19,
     "metadata": {},
     "output_type": "execute_result"
    }
   ],
   "source": [
    "dr.ideales"
   ]
  },
  {
   "cell_type": "markdown",
   "metadata": {},
   "source": [
    "Se generaron datos aleatorios contemplando 6 empresas y 8 productos por cada una de ellas como simulación de las decisiones de los usuarios. \n",
    "Los datos están guardados en una lista que contiene las seis empresas, que a su vez son una lista que contiene los 8 productos y los pesos de distribución decididos."
   ]
  },
  {
   "cell_type": "code",
   "execution_count": 20,
   "metadata": {},
   "outputs": [
    {
     "data": {
      "text/plain": [
       "[0.32709879804715664, 0.30907749323674644, 0.3638237087160969]"
      ]
     },
     "execution_count": 20,
     "metadata": {},
     "output_type": "execute_result"
    }
   ],
   "source": [
    "dr.pesos_distribucion_porempresa[0][0]"
   ]
  },
  {
   "cell_type": "markdown",
   "metadata": {},
   "source": [
    "Lo siguiente que se propone es hacer la comparación con distancia euclidiana de cada decisión de inversión para cada producto con los valores ideales."
   ]
  },
  {
   "cell_type": "code",
   "execution_count": 21,
   "metadata": {},
   "outputs": [
    {
     "data": {
      "text/plain": [
       "[0.720164726056021,\n",
       " 0.6218059281635728,\n",
       " 0.5009391955271765,\n",
       " 0.7101436010190085,\n",
       " 0.7044492104631828,\n",
       " 0.4007051035246501,\n",
       " 0.5862159475546012,\n",
       " 0.5847065428998983]"
      ]
     },
     "execution_count": 21,
     "metadata": {},
     "output_type": "execute_result"
    }
   ],
   "source": [
    "dr.similitud_distribucion[0]"
   ]
  }
 ],
 "metadata": {
  "kernelspec": {
   "display_name": "Python 3",
   "language": "python",
   "name": "python3"
  },
  "language_info": {
   "codemirror_mode": {
    "name": "ipython",
    "version": 3
   },
   "file_extension": ".py",
   "mimetype": "text/x-python",
   "name": "python",
   "nbconvert_exporter": "python",
   "pygments_lexer": "ipython3",
   "version": "3.7.6"
  }
 },
 "nbformat": 4,
 "nbformat_minor": 1
}

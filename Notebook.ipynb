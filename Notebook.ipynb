{
 "cells": [
  {
   "cell_type": "markdown",
   "metadata": {
    "collapsed": true
   },
   "source": [
    "<div style=\"text-align:center\"><span style=\"color:#170D5D; font-family:Georgia; font-size:3.1em; LINE-HEIGHT:80px\"> Simulador Council </span></div>\n",
    " \n",
    "><b> <p style = \"font-family: Palatino; font-size:1.7em; color: #170D5D;\" > Modelo Matemático </p> <b/>\n",
    "><br />\n",
    ">    \n",
    "><b> <p style = \"font-family: Palatino; font-size:1.7em; color: #170D5D;\" > Araceli Soledad Castillo Fuhr  </p> <b/>\n",
    "><br />\n",
    ">    \n",
    "><b> <p style = \"font-family: Palatino; font-size:1.7em; color: #170D5D;\" > Paulina Salcedo Celis </p> <b/>\n",
    "><br />\n",
    ">  "
   ]
  },
  {
   "cell_type": "markdown",
   "metadata": {},
   "source": [
    "## <font color= #170D5D> <font size = 5> Descripción </font>\n",
    "    \n",
    "    \n",
    "<div style=\"text-align: justify\">\n",
    "    <font color= #0d2d5d> Creación para la asignación de ventas por productos y empresas participantes del simulador empresarial. Se encuentra dividido en tres áreas diferentes. </font>\n",
    "</div>"
   ]
  },
  {
   "cell_type": "markdown",
   "metadata": {},
   "source": [
    "<font color= #170D5D> <font size = 5> Investigación y Desarrollo </font> <font color= #0d2d5d>\n",
    "\n",
    "Sección que contiene la información de productos de cada empresa, así como también las ideales del segmento."
   ]
  },
  {
   "cell_type": "code",
   "execution_count": 1,
   "metadata": {},
   "outputs": [],
   "source": [
    "import Investigacion_Desarrollo as ide"
   ]
  },
  {
   "cell_type": "markdown",
   "metadata": {},
   "source": [
    "Las características ideales del segmento son las siguientes:"
   ]
  },
  {
   "cell_type": "code",
   "execution_count": 2,
   "metadata": {},
   "outputs": [
    {
     "data": {
      "text/html": [
       "<div>\n",
       "<style scoped>\n",
       "    .dataframe tbody tr th:only-of-type {\n",
       "        vertical-align: middle;\n",
       "    }\n",
       "\n",
       "    .dataframe tbody tr th {\n",
       "        vertical-align: top;\n",
       "    }\n",
       "\n",
       "    .dataframe thead th {\n",
       "        text-align: right;\n",
       "    }\n",
       "</style>\n",
       "<table border=\"1\" class=\"dataframe\">\n",
       "  <thead>\n",
       "    <tr style=\"text-align: right;\">\n",
       "      <th></th>\n",
       "      <th>Pantalla</th>\n",
       "      <th>Camara</th>\n",
       "      <th>Bateria</th>\n",
       "      <th>Procesador</th>\n",
       "      <th>Precio</th>\n",
       "    </tr>\n",
       "  </thead>\n",
       "  <tbody>\n",
       "    <tr>\n",
       "      <th>0</th>\n",
       "      <td>6.0</td>\n",
       "      <td>10</td>\n",
       "      <td>3500</td>\n",
       "      <td>6.0</td>\n",
       "      <td>7999</td>\n",
       "    </tr>\n",
       "  </tbody>\n",
       "</table>\n",
       "</div>"
      ],
      "text/plain": [
       "   Pantalla  Camara  Bateria  Procesador  Precio\n",
       "0       6.0      10     3500         6.0    7999"
      ]
     },
     "execution_count": 2,
     "metadata": {},
     "output_type": "execute_result"
    }
   ],
   "source": [
    "ide.df_caracteristicas"
   ]
  },
  {
   "cell_type": "markdown",
   "metadata": {},
   "source": [
    "Los pesos de cada una de esas características son:"
   ]
  },
  {
   "cell_type": "code",
   "execution_count": 3,
   "metadata": {},
   "outputs": [
    {
     "data": {
      "text/html": [
       "<div>\n",
       "<style scoped>\n",
       "    .dataframe tbody tr th:only-of-type {\n",
       "        vertical-align: middle;\n",
       "    }\n",
       "\n",
       "    .dataframe tbody tr th {\n",
       "        vertical-align: top;\n",
       "    }\n",
       "\n",
       "    .dataframe thead th {\n",
       "        text-align: right;\n",
       "    }\n",
       "</style>\n",
       "<table border=\"1\" class=\"dataframe\">\n",
       "  <thead>\n",
       "    <tr style=\"text-align: right;\">\n",
       "      <th></th>\n",
       "      <th>Pantalla</th>\n",
       "      <th>Camara</th>\n",
       "      <th>Bateria</th>\n",
       "      <th>Procesador</th>\n",
       "      <th>Precio</th>\n",
       "    </tr>\n",
       "  </thead>\n",
       "  <tbody>\n",
       "    <tr>\n",
       "      <th>0</th>\n",
       "      <td>0.25</td>\n",
       "      <td>0.15</td>\n",
       "      <td>0.05</td>\n",
       "      <td>0.05</td>\n",
       "      <td>0.5</td>\n",
       "    </tr>\n",
       "  </tbody>\n",
       "</table>\n",
       "</div>"
      ],
      "text/plain": [
       "   Pantalla  Camara  Bateria  Procesador  Precio\n",
       "0      0.25    0.15     0.05        0.05     0.5"
      ]
     },
     "execution_count": 3,
     "metadata": {},
     "output_type": "execute_result"
    }
   ],
   "source": [
    "ide.df_carac_pesos"
   ]
  },
  {
   "cell_type": "markdown",
   "metadata": {},
   "source": [
    "Se generaron datos aleatorios contemplando 6 empresas y 8 productos por cada una de ellas como simulación de las decisiones de los usuarios. \n",
    "Los datos están guardados en una lista que contiene las seis empresas, que a su vez son una lista que contiene los 8 productos."
   ]
  },
  {
   "cell_type": "code",
   "execution_count": 4,
   "metadata": {},
   "outputs": [
    {
     "data": {
      "text/plain": [
       "[[5.629999999999988, 8.0, 3100.0, 6.0, 7657.0],\n",
       " [6.629999999999967, 11.0, 3100.0, 6.0, 7558.0],\n",
       " [5.399999999999993, 10.0, 3000.0, 5.0, 8903.0],\n",
       " [5.509999999999991, 12.0, 3700.0, 5.0, 8059.0],\n",
       " [5.9499999999999815, 10.0, 3800.0, 6.0, 7648.0],\n",
       " [6.289999999999974, 11.0, 3600.0, 6.0, 8332.0],\n",
       " [5.269999999999996, 11.0, 3900.0, 6.0, 8471.0],\n",
       " [5.55999999999999, 12.0, 3100.0, 6.0, 8952.0]]"
      ]
     },
     "execution_count": 4,
     "metadata": {},
     "output_type": "execute_result"
    }
   ],
   "source": [
    "# Ejemplo de los 8 productos de la empresa 0.\n",
    "ide.caracteristicas_productos_porempresa[0]"
   ]
  },
  {
   "cell_type": "markdown",
   "metadata": {},
   "source": [
    "Lo siguiente que se propone es hacer la comparación con distancia euclidiana de cada producto con los valores ideales."
   ]
  },
  {
   "cell_type": "code",
   "execution_count": 5,
   "metadata": {},
   "outputs": [
    {
     "data": {
      "text/plain": [
       "[2.757605932679321e-229,\n",
       " 2.678604666550467e-259,\n",
       " 0.0,\n",
       " 2.0473901764830572e-91,\n",
       " 2.9525313616276207e-201,\n",
       " 9.978376589245904e-152,\n",
       " 2.0112362217792176e-269,\n",
       " 0.0]"
      ]
     },
     "execution_count": 5,
     "metadata": {},
     "output_type": "execute_result"
    }
   ],
   "source": [
    "# Resultados de indices de similitud\n",
    "ide.similitud_productos[0]"
   ]
  },
  {
   "cell_type": "markdown",
   "metadata": {},
   "source": [
    "<font color= #170D5D> <font size = 5> Promoción </font> <font color= #0d2d5d>\n",
    "\n",
    "Sección que contiene la información de la promoción que elige cada empresa para cada uno de sus ocho productos, así como también las ideales del segmento."
   ]
  },
  {
   "cell_type": "code",
   "execution_count": 6,
   "metadata": {},
   "outputs": [],
   "source": [
    "import Promocion as pr"
   ]
  },
  {
   "cell_type": "markdown",
   "metadata": {},
   "source": [
    "Los pesos ideales del segmento son los siguientes:"
   ]
  },
  {
   "cell_type": "code",
   "execution_count": 7,
   "metadata": {},
   "outputs": [
    {
     "data": {
      "text/html": [
       "<div>\n",
       "<style scoped>\n",
       "    .dataframe tbody tr th:only-of-type {\n",
       "        vertical-align: middle;\n",
       "    }\n",
       "\n",
       "    .dataframe tbody tr th {\n",
       "        vertical-align: top;\n",
       "    }\n",
       "\n",
       "    .dataframe thead th {\n",
       "        text-align: right;\n",
       "    }\n",
       "</style>\n",
       "<table border=\"1\" class=\"dataframe\">\n",
       "  <thead>\n",
       "    <tr style=\"text-align: right;\">\n",
       "      <th></th>\n",
       "      <th>Redes Sociales</th>\n",
       "      <th>Television</th>\n",
       "      <th>Bateria</th>\n",
       "      <th>Procesador</th>\n",
       "      <th>Precio</th>\n",
       "    </tr>\n",
       "  </thead>\n",
       "  <tbody>\n",
       "    <tr>\n",
       "      <th>0</th>\n",
       "      <td>0.5</td>\n",
       "      <td>0.25</td>\n",
       "      <td>0.15</td>\n",
       "      <td>0.05</td>\n",
       "      <td>0.05</td>\n",
       "    </tr>\n",
       "  </tbody>\n",
       "</table>\n",
       "</div>"
      ],
      "text/plain": [
       "   Redes Sociales  Television  Bateria  Procesador  Precio\n",
       "0             0.5        0.25     0.15        0.05    0.05"
      ]
     },
     "execution_count": 7,
     "metadata": {},
     "output_type": "execute_result"
    }
   ],
   "source": [
    "pr.df_promocion"
   ]
  },
  {
   "cell_type": "markdown",
   "metadata": {},
   "source": [
    "El usuario primero elije la cantidad de dinero a utilizar, entre 0 a 10,000,000. Se generaron números aleatorios para tener estas decisiones."
   ]
  },
  {
   "cell_type": "code",
   "execution_count": 11,
   "metadata": {},
   "outputs": [
    {
     "name": "stdout",
     "output_type": "stream",
     "text": [
      "La decisión ideal es:  6500000\n"
     ]
    }
   ],
   "source": [
    "print('La decisión ideal es: ', pr.inversion_ideal)"
   ]
  },
  {
   "cell_type": "code",
   "execution_count": 14,
   "metadata": {},
   "outputs": [
    {
     "data": {
      "text/plain": [
       "[array([3000000]),\n",
       " array([5900000]),\n",
       " array([1300000]),\n",
       " array([6400000]),\n",
       " array([8600000]),\n",
       " array([2100000]),\n",
       " array([3200000]),\n",
       " array([3200000])]"
      ]
     },
     "execution_count": 14,
     "metadata": {},
     "output_type": "execute_result"
    }
   ],
   "source": [
    "# Decision de la primer empresa para cada una de los 8 productos.\n",
    "pr.inversion_por_promocion[0]"
   ]
  },
  {
   "cell_type": "markdown",
   "metadata": {},
   "source": [
    "Se generaron datos aleatorios contemplando 6 empresas y 8 productos por cada una de ellas como simulación de las decisiones de los usuarios. \n",
    "Los datos están guardados en una lista que contiene las seis empresas, que a su vez son una lista que contiene los 8 productos y los pesos de promoción decididos."
   ]
  },
  {
   "cell_type": "code",
   "execution_count": 15,
   "metadata": {},
   "outputs": [
    {
     "data": {
      "text/plain": [
       "[0.030968858088133492,\n",
       " 0.04983543016862696,\n",
       " 0.5822287456778417,\n",
       " 0.10166102250975652,\n",
       " 0.2353059435556414]"
      ]
     },
     "execution_count": 15,
     "metadata": {},
     "output_type": "execute_result"
    }
   ],
   "source": [
    "# Ejemplo de decision de pesos de la empresa 0 producto numero 0 de esa empresa.\n",
    "pr.pesos_promocion_porempresa[0][0]"
   ]
  },
  {
   "cell_type": "markdown",
   "metadata": {},
   "source": [
    "Se propone hacer la comparación de la cantidad de inversión elegida."
   ]
  },
  {
   "cell_type": "markdown",
   "metadata": {},
   "source": [
    "Lo siguiente que se propone es hacer la comparación con distancia euclidiana de cada decisión de inversión para cada producto con los valores ideales."
   ]
  },
  {
   "cell_type": "code",
   "execution_count": 18,
   "metadata": {},
   "outputs": [
    {
     "data": {
      "text/plain": [
       "[0.49876593323722906,\n",
       " 0.6935614510866274,\n",
       " 0.7386352054643385,\n",
       " 0.5199538544296375,\n",
       " 0.8302438253202967,\n",
       " 0.6639084649958561,\n",
       " 0.7537876028285284,\n",
       " 0.7512284450278824]"
      ]
     },
     "execution_count": 18,
     "metadata": {},
     "output_type": "execute_result"
    }
   ],
   "source": [
    "pr.similitud_promocion[0]"
   ]
  },
  {
   "cell_type": "markdown",
   "metadata": {},
   "source": [
    "<font color= #170D5D> <font size = 5> Plaza </font> <font color= #0d2d5d>\n",
    "\n",
    "Sección que contiene la información de los pesos para la plaza que elige cada empresa para cada uno de sus ocho productos, así como también las ideales del segmento."
   ]
  },
  {
   "cell_type": "code",
   "execution_count": 20,
   "metadata": {},
   "outputs": [],
   "source": [
    "import Plaza as pl"
   ]
  },
  {
   "cell_type": "markdown",
   "metadata": {},
   "source": [
    "Los pesos ideales del segmento son los siguientes:"
   ]
  },
  {
   "cell_type": "code",
   "execution_count": 21,
   "metadata": {},
   "outputs": [
    {
     "data": {
      "text/html": [
       "<div>\n",
       "<style scoped>\n",
       "    .dataframe tbody tr th:only-of-type {\n",
       "        vertical-align: middle;\n",
       "    }\n",
       "\n",
       "    .dataframe tbody tr th {\n",
       "        vertical-align: top;\n",
       "    }\n",
       "\n",
       "    .dataframe thead th {\n",
       "        text-align: right;\n",
       "    }\n",
       "</style>\n",
       "<table border=\"1\" class=\"dataframe\">\n",
       "  <thead>\n",
       "    <tr style=\"text-align: right;\">\n",
       "      <th></th>\n",
       "      <th>Retail</th>\n",
       "      <th>Plaza</th>\n",
       "      <th>E-commerce</th>\n",
       "    </tr>\n",
       "  </thead>\n",
       "  <tbody>\n",
       "    <tr>\n",
       "      <th>0</th>\n",
       "      <td>0.5</td>\n",
       "      <td>0.4</td>\n",
       "      <td>0.1</td>\n",
       "    </tr>\n",
       "  </tbody>\n",
       "</table>\n",
       "</div>"
      ],
      "text/plain": [
       "   Retail  Plaza  E-commerce\n",
       "0     0.5    0.4         0.1"
      ]
     },
     "execution_count": 21,
     "metadata": {},
     "output_type": "execute_result"
    }
   ],
   "source": [
    "pl.df_Plaza"
   ]
  },
  {
   "cell_type": "markdown",
   "metadata": {},
   "source": [
    "El usuario primero elije la cantidad de dinero a utilizar, entre 0 a 10,000,000. Se generaron números aleatorios para tener estas decisiones."
   ]
  },
  {
   "cell_type": "code",
   "execution_count": 22,
   "metadata": {},
   "outputs": [
    {
     "name": "stdout",
     "output_type": "stream",
     "text": [
      "La decisión ideal es:  6500000\n"
     ]
    }
   ],
   "source": [
    "print('La decisión ideal es: ', pr.inversion_ideal)"
   ]
  },
  {
   "cell_type": "code",
   "execution_count": 23,
   "metadata": {},
   "outputs": [
    {
     "data": {
      "text/plain": [
       "[array([6600000]),\n",
       " array([600000]),\n",
       " array([8100000]),\n",
       " array([600000]),\n",
       " array([9600000]),\n",
       " array([3900000]),\n",
       " array([9200000]),\n",
       " array([600000])]"
      ]
     },
     "execution_count": 23,
     "metadata": {},
     "output_type": "execute_result"
    }
   ],
   "source": [
    "# Decision de la primer empresa para cada una de los 8 productos.\n",
    "pl.inversion_por_plaza[0]"
   ]
  },
  {
   "cell_type": "markdown",
   "metadata": {},
   "source": [
    "Se generaron datos aleatorios contemplando 6 empresas y 8 productos por cada una de ellas como simulación de las decisiones de los usuarios. \n",
    "Los datos están guardados en una lista que contiene las seis empresas, que a su vez son una lista que contiene los 8 productos y los pesos de plaza decididos."
   ]
  },
  {
   "cell_type": "code",
   "execution_count": 25,
   "metadata": {},
   "outputs": [
    {
     "data": {
      "text/plain": [
       "[0.30882828060024975, 0.010608372008594217, 0.6805633473911561]"
      ]
     },
     "execution_count": 25,
     "metadata": {},
     "output_type": "execute_result"
    }
   ],
   "source": [
    "# Ejemplo de decision de pesos de la empresa 0 producto numero 0 de esa empresa.\n",
    "pl.pesos_plaza_porempresa[0][0]"
   ]
  },
  {
   "cell_type": "markdown",
   "metadata": {},
   "source": [
    "Se propone hacer la comparación de la cantidad de inversión elegida."
   ]
  },
  {
   "cell_type": "markdown",
   "metadata": {},
   "source": [
    "Lo siguiente que se propone es hacer la comparación con distancia euclidiana de cada decisión de inversión para cada producto con los valores ideales."
   ]
  },
  {
   "cell_type": "code",
   "execution_count": 28,
   "metadata": {},
   "outputs": [
    {
     "data": {
      "text/plain": [
       "[0.48445779626127355,\n",
       " 0.8783058676752098,\n",
       " 0.46664184274609777,\n",
       " 0.41266724096115753,\n",
       " 0.8328930603480145,\n",
       " 0.8382123398790106,\n",
       " 0.5875854061161341,\n",
       " 0.5840506728730412]"
      ]
     },
     "execution_count": 28,
     "metadata": {},
     "output_type": "execute_result"
    }
   ],
   "source": [
    "pl.similitud_plaza[0]"
   ]
  },
  {
   "cell_type": "markdown",
   "metadata": {},
   "source": [
    "<font color= #170D5D> <font size = 5> Distribución </font> <font color= #0d2d5d>\n",
    "\n",
    "Sección que contiene la información procentaje de unidades totales que elige cada empresa para cada uno de sus ocho productos a distribuir en plaza, así como también las ideales del segmento."
   ]
  },
  {
   "cell_type": "code",
   "execution_count": 29,
   "metadata": {},
   "outputs": [],
   "source": [
    "import Distribucion as dr"
   ]
  },
  {
   "cell_type": "markdown",
   "metadata": {},
   "source": [
    "Los pesos ideales del segmento son los siguientes:"
   ]
  },
  {
   "cell_type": "code",
   "execution_count": 30,
   "metadata": {},
   "outputs": [
    {
     "data": {
      "text/plain": [
       "Retail        0.5\n",
       "Plaza         0.4\n",
       "E-commerce    0.1\n",
       "Name: 0, dtype: float64"
      ]
     },
     "execution_count": 30,
     "metadata": {},
     "output_type": "execute_result"
    }
   ],
   "source": [
    "dr.ideales"
   ]
  },
  {
   "cell_type": "markdown",
   "metadata": {},
   "source": [
    "Se generaron datos aleatorios contemplando 6 empresas y 8 productos por cada una de ellas como simulación de las decisiones de los usuarios. \n",
    "Los datos están guardados en una lista que contiene las seis empresas, que a su vez son una lista que contiene los 8 productos y los pesos de distribución decididos."
   ]
  },
  {
   "cell_type": "code",
   "execution_count": 31,
   "metadata": {},
   "outputs": [
    {
     "data": {
      "text/plain": [
       "[0.32427727140949864, 0.07226464304072135, 0.6034580855497801]"
      ]
     },
     "execution_count": 31,
     "metadata": {},
     "output_type": "execute_result"
    }
   ],
   "source": [
    "dr.pesos_distribucion_porempresa[0][0]"
   ]
  },
  {
   "cell_type": "markdown",
   "metadata": {},
   "source": [
    "Lo siguiente que se propone es hacer la comparación con distancia euclidiana de cada decisión de inversión para cada producto con los valores ideales."
   ]
  },
  {
   "cell_type": "code",
   "execution_count": 32,
   "metadata": {},
   "outputs": [
    {
     "data": {
      "text/plain": [
       "[0.5347764173550694,\n",
       " 0.498403732551889,\n",
       " 0.8702838563248778,\n",
       " 0.39617475637507565,\n",
       " 0.6412317390275608,\n",
       " 0.6918881077048632,\n",
       " 0.7039285060209072,\n",
       " 0.5818890312017838]"
      ]
     },
     "execution_count": 32,
     "metadata": {},
     "output_type": "execute_result"
    }
   ],
   "source": [
    "dr.similitud_distribucion[0]"
   ]
  }
 ],
 "metadata": {
  "kernelspec": {
   "display_name": "Python 3",
   "language": "python",
   "name": "python3"
  },
  "language_info": {
   "codemirror_mode": {
    "name": "ipython",
    "version": 3
   },
   "file_extension": ".py",
   "mimetype": "text/x-python",
   "name": "python",
   "nbconvert_exporter": "python",
   "pygments_lexer": "ipython3",
   "version": "3.7.6"
  }
 },
 "nbformat": 4,
 "nbformat_minor": 1
}
